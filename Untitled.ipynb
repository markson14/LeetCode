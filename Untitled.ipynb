{
 "cells": [
  {
   "cell_type": "code",
   "execution_count": 2,
   "metadata": {},
   "outputs": [],
   "source": [
    "import sys\n",
    "import os"
   ]
  },
  {
   "cell_type": "code",
   "execution_count": 6,
   "metadata": {},
   "outputs": [
    {
     "name": "stdout",
     "output_type": "stream",
     "text": [
      "AddDigit.md\n",
      "Intro.md\n",
      "ImplementString.md\n",
      "ReverseBits.md\n",
      "Intro.md\n",
      "Intro.md\n",
      "Top K Frequent Elements.md\n",
      "Valid Parentheses.md\n",
      "Find Duplicate Sums.md\n",
      "Intro.md\n",
      "Intro.md\n",
      "Shortest Unsorted Continuous Subarray.md\n",
      "Largest Number At Least Twice of Others.md\n",
      "Counting Bits.md\n",
      "Remove Duplicates from Sorted Array.md\n",
      "Friend Circles.md\n",
      "Fibonacci数列.md\n",
      "数字游戏.md\n",
      "素数组合.md\n",
      "分苹果.md\n",
      "连续子序列最大和.md\n",
      "链表中倒数第k个节点.md\n",
      "二维数组中的查找.md\n",
      "尾部返回链表.md\n",
      "重构二叉树.md\n",
      "丑数.md\n",
      "Perfect Square.md\n",
      "Breadth First Search.md\n",
      "Maximum Depth of N-ary Tree.md\n",
      "Numbers of Islands.md\n",
      "Right Side View.md\n",
      "Surrounding Regions.md\n",
      "House Robbery II.md\n",
      "Longest Valid Parentheses.md\n",
      "Max Product Subarray.md\n",
      "Minimum Path Sum.md\n",
      "Triangle.md\n",
      "Unique Paths.md\n",
      "Unique Paths II.md\n",
      "Bitwise ORs of Subarrays.md\n",
      "Boats to save people.md\n",
      "897. Increasing Order Search Tree.md\n",
      "Jump Game II.md\n",
      "Jump Game.md\n",
      "Longest Consecutive Sequence.md\n",
      "Longest Increasing Subsequence.md\n",
      "Orderly Queue.md\n",
      "Repeated DNA Sequences.md\n",
      "Search in Rotated Sorted Array II.md\n",
      "Redundant Connection.md\n",
      "README.md\n",
      "Binary Tree Pruning.md\n",
      "Keys and Rooms.md\n",
      "Kth Smallest Element in a BST.md\n",
      "Leaf Similar Tree.md\n",
      "Letter Case Permutation.md\n",
      "Longest Substring without repeating characters.md\n",
      "Max Area of Island.md\n",
      "N Queens II.md\n",
      "Validate Binary Search Tree.md\n",
      "Employees Importance.md\n"
     ]
    }
   ],
   "source": [
    "import os\n",
    "dir = os.getcwd()         #获取当前目录\n",
    "subdir = os.listdir(dir)  #遍历当前目录下所有文件，也就是获取第一级作者名字所有文件夹\n",
    "for i in subdir:\n",
    "    path = os.path.join(dir,i)      #把第一级目录添加到路径中\n",
    "    if os.path.isdir(path):         #如果path仍然是文件夹，下面就继续遍历出其中的文件，\n",
    "        end_dir = os.listdir(path)  #实际上这步判断可以不要的，因为我知道目录结构。\n",
    "        for i in end_dir:\n",
    "            if i.endswith('.md') and not i.startswith('._'):\n",
    "#                 os.rename('README.md')\n",
    "#             os.rename(os.path.join(path,end_dir[i]),os.path.join(path,newname))  #用新名字取代旧名字\n",
    "\n",
    "        "
   ]
  },
  {
   "cell_type": "code",
   "execution_count": null,
   "metadata": {},
   "outputs": [],
   "source": []
  }
 ],
 "metadata": {
  "kernelspec": {
   "display_name": "Python 3",
   "language": "python",
   "name": "python3"
  },
  "language_info": {
   "codemirror_mode": {
    "name": "ipython",
    "version": 3
   },
   "file_extension": ".py",
   "mimetype": "text/x-python",
   "name": "python",
   "nbconvert_exporter": "python",
   "pygments_lexer": "ipython3",
   "version": "3.6.5"
  }
 },
 "nbformat": 4,
 "nbformat_minor": 2
}
